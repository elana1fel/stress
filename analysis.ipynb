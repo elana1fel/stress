{
 "cells": [
  {
   "cell_type": "code",
   "execution_count": null,
   "metadata": {},
   "outputs": [],
   "source": [
    "import pandas as pd\n",
    "import numpy as np\n",
    "from tqdm import tqdm\n",
    "import matplotlib.pyplot as plt\n",
    "from sklearn.metrics import confusion_matrix, ConfusionMatrixDisplay, f1_score"
   ]
  },
  {
   "cell_type": "code",
   "execution_count": null,
   "metadata": {},
   "outputs": [],
   "source": [
    "df_val = pd.read_csv('./data/val_summarized.csv')\n",
    "df_predicted = pd.read_csv('./deberta/model/20220109-132434_/answer.csv')\n",
    "\n",
    "category = {\n",
    "    'moderate': 0,\n",
    "    'severe': 1,\n",
    "    'not depression': 2\n",
    "}\n",
    "\n",
    "inverse_category = {\n",
    "    0: 'moderate',\n",
    "    1: 'severe',\n",
    "    2: 'not depression'\n",
    "}"
   ]
  },
  {
   "cell_type": "code",
   "execution_count": null,
   "metadata": {},
   "outputs": [],
   "source": [
    "y_pred = []\n",
    "for n, row in tqdm(df_predicted.iterrows(), total=len(df_predicted)):\n",
    "    probs = row.values.tolist()\n",
    "    category = probs.index(max(probs))\n",
    "    y_pred.append(inverse_category[category])\n",
    "\n",
    "df_val['predict'] = y_pred"
   ]
  },
  {
   "cell_type": "code",
   "execution_count": null,
   "metadata": {},
   "outputs": [],
   "source": [
    "labels = ['moderate', 'severe', 'not depression']\n",
    "a = confusion_matrix(df_val['Label'], df_val['predict'], labels=labels)\n",
    "disp = ConfusionMatrixDisplay(confusion_matrix=a, display_labels=labels)\n",
    "print(f1_score(df_val['Label'], df_val['predict'], average='macro'))"
   ]
  },
  {
   "cell_type": "code",
   "execution_count": null,
   "metadata": {},
   "outputs": [],
   "source": [
    "disp.plot(xticks_rotation=45)\n",
    "plt.savefig('confusion_matrix_val.png', dpi=1000)"
   ]
  },
  {
   "cell_type": "code",
   "execution_count": null,
   "metadata": {},
   "outputs": [],
   "source": [
    "df_val.iloc[0]"
   ]
  },
  {
   "cell_type": "code",
   "execution_count": null,
   "metadata": {},
   "outputs": [],
   "source": []
  }
 ],
 "metadata": {
  "interpreter": {
   "hash": "b3845f1e45e4509ddb39eebfc0e3f2f8248d478e49729aac0166e0a757898130"
  },
  "kernelspec": {
   "display_name": "Python 3.8.12 64-bit ('depression_challenge': conda)",
   "language": "python",
   "name": "python3"
  },
  "language_info": {
   "codemirror_mode": {
    "name": "ipython",
    "version": 3
   },
   "file_extension": ".py",
   "mimetype": "text/x-python",
   "name": "python",
   "nbconvert_exporter": "python",
   "pygments_lexer": "ipython3",
   "version": "3.8.12"
  },
  "orig_nbformat": 4
 },
 "nbformat": 4,
 "nbformat_minor": 2
}
