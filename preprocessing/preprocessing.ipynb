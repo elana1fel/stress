{
 "cells": [
  {
   "cell_type": "markdown",
   "metadata": {},
   "source": [
    "# Depression-Detection-LT-EDI-ACL-2022"
   ]
  },
  {
   "cell_type": "code",
   "execution_count": 1,
   "metadata": {},
   "outputs": [
    {
     "data": {
      "text/html": [
       "<style type='text/css'>\n",
       ".datatable table.frame { margin-bottom: 0; }\n",
       ".datatable table.frame thead { border-bottom: none; }\n",
       ".datatable table.frame tr.coltypes td {  color: #FFFFFF;  line-height: 6px;  padding: 0 0.5em;}\n",
       ".datatable .bool    { background: #DDDD99; }\n",
       ".datatable .object  { background: #565656; }\n",
       ".datatable .int     { background: #5D9E5D; }\n",
       ".datatable .float   { background: #4040CC; }\n",
       ".datatable .str     { background: #CC4040; }\n",
       ".datatable .time    { background: #40CC40; }\n",
       ".datatable .row_index {  background: var(--jp-border-color3);  border-right: 1px solid var(--jp-border-color0);  color: var(--jp-ui-font-color3);  font-size: 9px;}\n",
       ".datatable .frame tbody td { text-align: left; }\n",
       ".datatable .frame tr.coltypes .row_index {  background: var(--jp-border-color0);}\n",
       ".datatable th:nth-child(2) { padding-left: 12px; }\n",
       ".datatable .hellipsis {  color: var(--jp-cell-editor-border-color);}\n",
       ".datatable .vellipsis {  background: var(--jp-layout-color0);  color: var(--jp-cell-editor-border-color);}\n",
       ".datatable .na {  color: var(--jp-cell-editor-border-color);  font-size: 80%;}\n",
       ".datatable .sp {  opacity: 0.25;}\n",
       ".datatable .footer { font-size: 9px; }\n",
       ".datatable .frame_dimensions {  background: var(--jp-border-color3);  border-top: 1px solid var(--jp-border-color0);  color: var(--jp-ui-font-color3);  display: inline-block;  opacity: 0.6;  padding: 1px 10px 1px 5px;}\n",
       "</style>\n"
      ],
      "text/plain": [
       "<IPython.core.display.HTML object>"
      ]
     },
     "metadata": {},
     "output_type": "display_data"
    }
   ],
   "source": [
    "import pandas as pd\n",
    "import numpy as np\n",
    "from datatable import (dt, f, by, ifelse, update, sort, count, min, max, mean, sum, rowsum)\n",
    "import re\n",
    "import string\n",
    "import math\n",
    "import demoji\n",
    "import emoji"
   ]
  },
  {
   "cell_type": "code",
   "execution_count": 2,
   "metadata": {},
   "outputs": [
    {
     "data": {
      "text/html": [
       "<div class='datatable'>\n",
       "  <table class='frame'>\n",
       "  <thead>\n",
       "    <tr class='colnames'><td class='row_index'></td><th>PID</th><th>Text_data</th><th>Label</th></tr>\n",
       "    <tr class='coltypes'><td class='row_index'></td><td class='str' title='str32'>&#x25AA;&#x25AA;&#x25AA;&#x25AA;</td><td class='str' title='str32'>&#x25AA;&#x25AA;&#x25AA;&#x25AA;</td><td class='str' title='str32'>&#x25AA;&#x25AA;&#x25AA;&#x25AA;</td></tr>\n",
       "  </thead>\n",
       "  <tbody>\n",
       "    <tr><td class='row_index'>0</td><td>train_pid_1</td><td>Waiting for my mind to have a breakdown once the “&#133;</td><td>moderate</td></tr>\n",
       "    <tr><td class='row_index'>1</td><td>train_pid_2</td><td>My new years resolution : I'm gonna get my ass int&#133;</td><td>moderate</td></tr>\n",
       "    <tr><td class='row_index'>2</td><td>train_pid_3</td><td>New year : Somone else Feeling like 2020 will be t&#133;</td><td>moderate</td></tr>\n",
       "    <tr><td class='row_index'>3</td><td>train_pid_4</td><td>My story I guess : Hi, Im from Germany and my engl&#133;</td><td>moderate</td></tr>\n",
       "    <tr><td class='row_index'>4</td><td>train_pid_5</td><td>Sat in the dark and cried myself going into the ne&#133;</td><td>moderate</td></tr>\n",
       "    <tr><td class='row_index'>5</td><td>train_pid_6</td><td>I will probably end it when my mum isn't around an&#133;</td><td>moderate</td></tr>\n",
       "    <tr><td class='row_index'>6</td><td>train_pid_7</td><td>Fuck 2019 : Left abusive relationship. Moved in wi&#133;</td><td>moderate</td></tr>\n",
       "    <tr><td class='row_index'>7</td><td>train_pid_8</td><td>I am at a new year's eve party and I want to cry. &#133;</td><td>moderate</td></tr>\n",
       "    <tr><td class='row_index'>8</td><td>train_pid_9</td><td>Death of my father : My father died in the beginni&#133;</td><td>moderate</td></tr>\n",
       "    <tr><td class='row_index'>9</td><td>train_pid_10</td><td>Empty and stuck in a loop every day : In any order&#133;</td><td>moderate</td></tr>\n",
       "  </tbody>\n",
       "  </table>\n",
       "  <div class='footer'>\n",
       "    <div class='frame_dimensions'>10 rows &times; 3 columns</div>\n",
       "  </div>\n",
       "</div>\n"
      ],
      "text/plain": [
       "<Frame#7fbd008a8b70 10x3>"
      ]
     },
     "execution_count": 2,
     "metadata": {},
     "output_type": "execute_result"
    }
   ],
   "source": [
    "train = dt.fread('train.tsv')\n",
    "valid = dt.fread('dev_with_labels.tsv')\n",
    "train.head()"
   ]
  },
  {
   "cell_type": "code",
   "execution_count": 3,
   "metadata": {},
   "outputs": [
    {
     "data": {
      "text/plain": [
       "(8891, 3)"
      ]
     },
     "execution_count": 3,
     "metadata": {},
     "output_type": "execute_result"
    }
   ],
   "source": [
    "train.shape"
   ]
  },
  {
   "cell_type": "code",
   "execution_count": 4,
   "metadata": {},
   "outputs": [
    {
     "data": {
      "text/plain": [
       "(4496, 3)"
      ]
     },
     "execution_count": 4,
     "metadata": {},
     "output_type": "execute_result"
    }
   ],
   "source": [
    "valid.shape"
   ]
  },
  {
   "cell_type": "code",
   "execution_count": 5,
   "metadata": {},
   "outputs": [
    {
     "data": {
      "text/html": [
       "<div class='datatable'>\n",
       "  <table class='frame'>\n",
       "  <thead>\n",
       "    <tr class='colnames'><td class='row_index'></td><th>PID</th><th>Text_data</th><th>Label</th></tr>\n",
       "    <tr class='coltypes'><td class='row_index'></td><td class='int' title='int64'>&#x25AA;&#x25AA;&#x25AA;&#x25AA;&#x25AA;&#x25AA;&#x25AA;&#x25AA;</td><td class='int' title='int64'>&#x25AA;&#x25AA;&#x25AA;&#x25AA;&#x25AA;&#x25AA;&#x25AA;&#x25AA;</td><td class='int' title='int64'>&#x25AA;&#x25AA;&#x25AA;&#x25AA;&#x25AA;&#x25AA;&#x25AA;&#x25AA;</td></tr>\n",
       "  </thead>\n",
       "  <tbody>\n",
       "    <tr><td class='row_index'>0</td><td>8891</td><td>2720</td><td>3</td></tr>\n",
       "  </tbody>\n",
       "  </table>\n",
       "  <div class='footer'>\n",
       "    <div class='frame_dimensions'>1 row &times; 3 columns</div>\n",
       "  </div>\n",
       "</div>\n"
      ],
      "text/plain": [
       "<Frame#7fbd008a81e0 1x3>"
      ]
     },
     "execution_count": 5,
     "metadata": {},
     "output_type": "execute_result"
    }
   ],
   "source": [
    "train.nunique()"
   ]
  },
  {
   "cell_type": "markdown",
   "metadata": {},
   "source": [
    "沒有缺值"
   ]
  },
  {
   "cell_type": "code",
   "execution_count": 6,
   "metadata": {},
   "outputs": [
    {
     "data": {
      "text/plain": [
       "PID          0\n",
       "Text_data    0\n",
       "Label        0\n",
       "dtype: int64"
      ]
     },
     "execution_count": 6,
     "metadata": {},
     "output_type": "execute_result"
    }
   ],
   "source": [
    "df_train = train.to_pandas()\n",
    "df_valid = valid.to_pandas()\n",
    "df_train.isnull().sum()\n",
    "df_valid.isnull().sum()"
   ]
  },
  {
   "cell_type": "markdown",
   "metadata": {},
   "source": [
    "### Preprocessing"
   ]
  },
  {
   "cell_type": "code",
   "execution_count": 7,
   "metadata": {},
   "outputs": [],
   "source": [
    "# Lowercase\n",
    "df_train['Text_data'] = df_train['Text_data'].apply(lambda x: x.lower())"
   ]
  },
  {
   "cell_type": "code",
   "execution_count": 8,
   "metadata": {},
   "outputs": [],
   "source": [
    "# Dictionary of English contractions\n",
    "contractions_dict = { \"ain't\": \"are not\",\"'s\":\" is\",\"aren't\": \"are not\",\n",
    "                     \"can't\": \"cannot\",\"can't've\": \"cannot have\",\n",
    "                     \"'cause\": \"because\",\"could've\": \"could have\",\"couldn't\": \"could not\",\n",
    "                     \"couldn't've\": \"could not have\", \"didn't\": \"did not\",\"doesn't\": \"does not\",\n",
    "                     \"don't\": \"do not\",\"hadn't\": \"had not\",\"hadn't've\": \"had not have\",\n",
    "                     \"hasn't\": \"has not\",\"haven't\": \"have not\",\"he'd\": \"he would\",\n",
    "                     \"he'd've\": \"he would have\",\"he'll\": \"he will\", \"he'll've\": \"he will have\",\n",
    "                     \"how'd\": \"how did\",\"how'd'y\": \"how do you\",\"how'll\": \"how will\",\n",
    "                     \"i'd\": \"i would\", \"i'd've\": \"i would have\",\"i'll\": \"i will\",\n",
    "                     \"i'll've\": \"i will have\",\"i'm\": \"i am\",\"I've\": \"i have\", \"isn't\": \"is not\",\n",
    "                     \"it'd\": \"it would\",\"it'd've\": \"it would have\",\"it'll\": \"it will\",\n",
    "                     \"it'll've\": \"it will have\", \"let's\": \"let us\",\"ma'am\": \"madam\",\n",
    "                     \"mayn't\": \"may not\",\"might've\": \"might have\",\"mightn't\": \"might not\", \n",
    "                     \"mightn't've\": \"might not have\",\"must've\": \"must have\",\"mustn't\": \"must not\",\n",
    "                     \"mustn't've\": \"must not have\", \"needn't\": \"need not\",\n",
    "                     \"needn't've\": \"need not have\",\"o'clock\": \"of the clock\",\"oughtn't\": \"ought not\",\n",
    "                     \"oughtn't've\": \"ought not have\",\"shan't\": \"shall not\",\"sha'n't\": \"shall not\",\n",
    "                     \"shan't've\": \"shall not have\",\"she'd\": \"she would\",\"she'd've\": \"she would have\",\n",
    "                     \"she'll\": \"she will\", \"she'll've\": \"she will have\",\"should've\": \"should have\",\n",
    "                     \"shouldn't\": \"should not\", \"shouldn't've\": \"should not have\",\"so've\": \"so have\",\n",
    "                     \"that'd\": \"that would\",\"that'd've\": \"that would have\", \"there'd\": \"there would\",\n",
    "                     \"there'd've\": \"there would have\", \"they'd\": \"they would\",\n",
    "                     \"they'd've\": \"they would have\",\"they'll\": \"they will\",\n",
    "                     \"they'll've\": \"they will have\", \"they're\": \"they are\",\"they've\": \"they have\",\n",
    "                     \"to've\": \"to have\",\"wasn't\": \"was not\",\"we'd\": \"we would\",\n",
    "                     \"we'd've\": \"we would have\",\"we'll\": \"we will\",\"we'll've\": \"we will have\",\n",
    "                     \"we're\": \"we are\",\"we've\": \"we have\", \"weren't\": \"were not\",\"what'll\": \"what will\",\n",
    "                     \"what'll've\": \"what will have\",\"what're\": \"what are\", \"what've\": \"what have\",\n",
    "                     \"when've\": \"when have\",\"where'd\": \"where did\", \"where've\": \"where have\",\n",
    "                     \"who'll\": \"who will\",\"who'll've\": \"who will have\",\"who've\": \"who have\",\n",
    "                     \"why've\": \"why have\",\"will've\": \"will have\",\"won't\": \"will not\",\n",
    "                     \"won't've\": \"will not have\", \"would've\": \"would have\",\"wouldn't\": \"would not\",\n",
    "                     \"wouldn't've\": \"would not have\",\"y'all\": \"you all\", \"y'all'd\": \"you all would\",\n",
    "                     \"y'all'd've\": \"you all would have\",\"y'all're\": \"you all are\",\n",
    "                     \"y'all've\": \"you all have\", \"you'd\": \"you would\",\"you'd've\": \"you would have\",\n",
    "                     \"you'll\": \"you will\",\"you'll've\": \"you will have\", \"you're\": \"you are\",\n",
    "                     \"you've\": \"you have\"}\n",
    "\n",
    "# Regular expression for finding contractions\n",
    "contractions_re=re.compile('(%s)' % '|'.join(contractions_dict.keys()))\n",
    "\n",
    "# Function for expanding contractions\n",
    "def expand_contractions(text,contractions_dict=contractions_dict):\n",
    "  def replace(match):\n",
    "    return contractions_dict[match.group(0)]\n",
    "  return contractions_re.sub(replace, text)\n",
    "\n",
    "# Expand contractions\n",
    "df_train['Text_data']=df_train['Text_data'].apply(lambda x:expand_contractions(x))"
   ]
  },
  {
   "cell_type": "code",
   "execution_count": 9,
   "metadata": {},
   "outputs": [],
   "source": [
    "# Remove punctuation\n",
    "df_train['Text_data'] = df_train['Text_data'].apply(lambda x: re.sub('[%s]' % re.escape(string.punctuation), '', x))\n",
    "# Remove extra spaces\n",
    "df_train['Text_data'] = df_train['Text_data'].apply(lambda x: re.sub(' +',' ',x))"
   ]
  },
  {
   "cell_type": "code",
   "execution_count": 10,
   "metadata": {
    "scrolled": true
   },
   "outputs": [
    {
     "name": "stdout",
     "output_type": "stream",
     "text": [
      "{'❤️': 'red heart'}\n",
      "{'❤️': 'red heart'}\n",
      "{'❤️': 'red heart'}\n",
      "{'❤️': 'red heart'}\n",
      "{'❤️': 'red heart'}\n",
      "{'❤️': 'red heart'}\n",
      "{'🦑': 'squid'}\n",
      "{'😭': 'loudly crying face', '🥺': 'pleading face'}\n",
      "{'❤️': 'red heart'}\n",
      "{'😎': 'smiling face with sunglasses'}\n",
      "{'❤️': 'red heart'}\n",
      "{'🦑': 'squid'}\n",
      "{'😭': 'loudly crying face', '🥺': 'pleading face'}\n",
      "{'❤️': 'red heart'}\n",
      "{'😎': 'smiling face with sunglasses'}\n",
      "{'🙃': 'upside-down face'}\n",
      "{'❤️': 'red heart'}\n",
      "{'🦑': 'squid'}\n",
      "{'😭': 'loudly crying face', '🥺': 'pleading face'}\n",
      "{'❤️': 'red heart'}\n",
      "{'😎': 'smiling face with sunglasses'}\n",
      "{'🙃': 'upside-down face'}\n",
      "{'❤️': 'red heart'}\n",
      "{'🦑': 'squid'}\n",
      "{'😭': 'loudly crying face', '🥺': 'pleading face'}\n",
      "{'❤️': 'red heart'}\n",
      "{'😎': 'smiling face with sunglasses'}\n",
      "{'🙃': 'upside-down face'}\n",
      "{'🥰': 'smiling face with hearts'}\n",
      "{'❤️': 'red heart'}\n",
      "{'🦑': 'squid'}\n",
      "{'😭': 'loudly crying face', '🥺': 'pleading face'}\n",
      "{'❤️': 'red heart'}\n",
      "{'😎': 'smiling face with sunglasses'}\n",
      "{'🙃': 'upside-down face'}\n",
      "{'😅': 'grinning face with sweat'}\n",
      "{'❤️': 'red heart'}\n",
      "{'🦑': 'squid'}\n",
      "{'😭': 'loudly crying face', '🥺': 'pleading face'}\n",
      "{'❤️': 'red heart'}\n",
      "{'😎': 'smiling face with sunglasses'}\n",
      "{'🙃': 'upside-down face'}\n",
      "{'🥰': 'smiling face with hearts'}\n",
      "{'😅': 'grinning face with sweat'}\n",
      "{'❤️': 'red heart'}\n",
      "{'🦑': 'squid'}\n",
      "{'😭': 'loudly crying face', '🥺': 'pleading face'}\n",
      "{'❤️': 'red heart'}\n",
      "{'😎': 'smiling face with sunglasses'}\n",
      "{'🙃': 'upside-down face'}\n",
      "{'🥰': 'smiling face with hearts'}\n",
      "{'😅': 'grinning face with sweat'}\n",
      "{'🙊': 'speak-no-evil monkey'}\n",
      "{'❤️': 'red heart'}\n",
      "{'🥳': 'partying face', '🎉': 'party popper'}\n",
      "{'❤️': 'red heart'}\n",
      "{'🦑': 'squid'}\n",
      "{'😭': 'loudly crying face', '🥺': 'pleading face'}\n",
      "{'❤️': 'red heart'}\n",
      "{'😎': 'smiling face with sunglasses'}\n",
      "{'🙃': 'upside-down face'}\n",
      "{'🥰': 'smiling face with hearts'}\n",
      "{'😅': 'grinning face with sweat'}\n",
      "{'😊': 'smiling face with smiling eyes'}\n",
      "{'❤️': 'red heart'}\n",
      "{'🦑': 'squid'}\n",
      "{'😭': 'loudly crying face', '🥺': 'pleading face'}\n",
      "{'❤️': 'red heart'}\n",
      "{'😎': 'smiling face with sunglasses'}\n",
      "{'🙃': 'upside-down face'}\n",
      "{'❤️': 'red heart', '😭': 'loudly crying face', '💖': 'sparkling heart'}\n",
      "{'😭': 'loudly crying face'}\n",
      "{'😔': 'pensive face'}\n",
      "{'🖤': 'black heart'}\n",
      "{'😥': 'sad but relieved face', '😕': 'confused face'}\n",
      "{'😐': 'neutral face'}\n",
      "{'😔': 'pensive face'}\n",
      "{'👏': 'clapping hands'}\n",
      "{'™️': 'trade mark'}\n",
      "{'💗': 'growing heart', '✌': 'victory hand', '😐': 'neutral face', '😘': 'face blowing a kiss'}\n",
      "{'😅': 'grinning face with sweat'}\n",
      "{'🤷🏽\\u200d♂️': 'man shrugging: medium skin tone'}\n",
      "{'🥜': 'peanuts'}\n",
      "{'❤': 'red heart'}\n",
      "{'🌲': 'evergreen tree'}\n",
      "{'❤': 'red heart'}\n",
      "{'🌲': 'evergreen tree'}\n",
      "{'❤': 'red heart'}\n",
      "{'🌲': 'evergreen tree'}\n",
      "{'❤️': 'red heart'}\n",
      "{'❤': 'red heart'}\n",
      "{'🌲': 'evergreen tree'}\n",
      "{'❤️': 'red heart'}\n",
      "{'❤': 'red heart'}\n",
      "{'🌲': 'evergreen tree'}\n",
      "{'❤️': 'red heart'}\n",
      "{'❤️': 'red heart'}\n",
      "{'❤': 'red heart'}\n",
      "{'🌲': 'evergreen tree'}\n",
      "{'❤️': 'red heart'}\n",
      "{'❤️': 'red heart'}\n",
      "{'❤': 'red heart'}\n",
      "{'🌲': 'evergreen tree'}\n",
      "{'❤️': 'red heart'}\n",
      "{'❤️': 'red heart'}\n",
      "{'✨': 'sparkles'}\n",
      "{'✌️': 'victory hand', '🙏': 'folded hands'}\n",
      "{'❤': 'red heart'}\n",
      "{'🌲': 'evergreen tree'}\n",
      "{'❤️': 'red heart'}\n",
      "{'❤️': 'red heart'}\n",
      "{'✨': 'sparkles'}\n",
      "{'✌️': 'victory hand', '🙏': 'folded hands'}\n",
      "{'😪': 'sleepy face'}\n",
      "{'💜': 'purple heart'}\n",
      "{'💙': 'blue heart'}\n",
      "{'❤': 'red heart'}\n",
      "{'🌲': 'evergreen tree'}\n",
      "{'❤️': 'red heart'}\n",
      "{'❤️': 'red heart'}\n",
      "{'✨': 'sparkles'}\n",
      "{'✌️': 'victory hand', '🙏': 'folded hands'}\n",
      "{'😪': 'sleepy face'}\n",
      "{'💜': 'purple heart'}\n",
      "{'💙': 'blue heart'}\n",
      "{'❤': 'red heart'}\n",
      "{'🌲': 'evergreen tree'}\n",
      "{'❤️': 'red heart'}\n",
      "{'❤️': 'red heart'}\n",
      "{'✨': 'sparkles'}\n",
      "{'✌️': 'victory hand', '🙏': 'folded hands'}\n",
      "{'😪': 'sleepy face'}\n",
      "{'💜': 'purple heart'}\n",
      "{'💙': 'blue heart'}\n",
      "{'🥰': 'smiling face with hearts'}\n",
      "{'❤': 'red heart'}\n",
      "{'🌲': 'evergreen tree'}\n",
      "{'❤️': 'red heart'}\n",
      "{'❤️': 'red heart'}\n",
      "{'✨': 'sparkles'}\n",
      "{'✌️': 'victory hand', '🙏': 'folded hands'}\n",
      "{'😪': 'sleepy face'}\n",
      "{'💜': 'purple heart'}\n",
      "{'💙': 'blue heart'}\n",
      "{'❤️': 'red heart'}\n",
      "{'❤': 'red heart'}\n",
      "{'🌲': 'evergreen tree'}\n",
      "{'❤️': 'red heart'}\n",
      "{'❤️': 'red heart'}\n",
      "{'✨': 'sparkles'}\n",
      "{'✌️': 'victory hand', '🙏': 'folded hands'}\n",
      "{'😪': 'sleepy face'}\n",
      "{'💜': 'purple heart'}\n",
      "{'💙': 'blue heart'}\n",
      "{'❤️': 'red heart'}\n",
      "{'❤': 'red heart'}\n",
      "{'🌲': 'evergreen tree'}\n",
      "{'😊': 'smiling face with smiling eyes'}\n",
      "{'❤️': 'red heart'}\n",
      "{'❤️': 'red heart'}\n",
      "{'✨': 'sparkles'}\n",
      "{'✌️': 'victory hand', '🙏': 'folded hands'}\n",
      "{'😪': 'sleepy face'}\n",
      "{'💜': 'purple heart'}\n",
      "{'💙': 'blue heart'}\n",
      "{'❤️': 'red heart'}\n",
      "{'❤️': 'red heart'}\n",
      "{'💜': 'purple heart', '☮️': 'peace symbol'}\n",
      "{'😔': 'pensive face'}\n",
      "{'🥴': 'woozy face'}\n",
      "{'❤️': 'red heart'}\n",
      "{'❤': 'red heart'}\n",
      "{'🌲': 'evergreen tree'}\n",
      "{'❤️': 'red heart'}\n",
      "{'❤️': 'red heart'}\n",
      "{'✨': 'sparkles'}\n",
      "{'✌️': 'victory hand', '🙏': 'folded hands'}\n",
      "{'😪': 'sleepy face'}\n",
      "{'💜': 'purple heart'}\n",
      "{'💙': 'blue heart'}\n",
      "{'😊': 'smiling face with smiling eyes'}\n",
      "{'❤': 'red heart'}\n",
      "{'🙁': 'slightly frowning face'}\n",
      "{'😎': 'smiling face with sunglasses', '💪': 'flexed biceps'}\n",
      "{'🤔': 'thinking face'}\n",
      "{'😔': 'pensive face'}\n",
      "{'👋': 'waving hand'}\n",
      "{'❤️': 'red heart'}\n",
      "{'😖': 'confounded face'}\n",
      "{'😀': 'grinning face'}\n",
      "{'😂': 'face with tears of joy'}\n",
      "{'🌞': 'sun with face', '😁': 'beaming face with smiling eyes'}\n",
      "{'✌🏼': 'victory hand: medium-light skin tone'}\n",
      "{'✌🏼': 'victory hand: medium-light skin tone'}\n",
      "{'✌🏼': 'victory hand: medium-light skin tone'}\n",
      "{'✌🏼': 'victory hand: medium-light skin tone'}\n",
      "{'✌🏼': 'victory hand: medium-light skin tone'}\n",
      "{'✌🏼': 'victory hand: medium-light skin tone'}\n",
      "{'🥴': 'woozy face'}\n",
      "{'❤️': 'red heart'}\n",
      "{'\\U0001f90d': 'white heart'}\n",
      "{'🥂': 'clinking glasses'}\n",
      "{'😅': 'grinning face with sweat'}\n",
      "{'🙃': 'upside-down face', '❤️': 'red heart'}\n",
      "{'😔': 'pensive face'}\n",
      "{'💜': 'purple heart', '💙': 'blue heart', '🌼': 'blossom'}\n",
      "{'🤬': 'face with symbols on mouth'}\n",
      "{'❤️': 'red heart', '😞': 'disappointed face', '🏳️\\u200d🌈': 'rainbow flag'}\n",
      "{'😕': 'confused face'}\n"
     ]
    }
   ],
   "source": [
    "# Check emoji\n",
    "emoji_result = df_train['Text_data'].apply(lambda x: demoji.findall(x))\n",
    "for item in emoji_result.tolist():\n",
    "    if  item:\n",
    "        print(item)"
   ]
  },
  {
   "cell_type": "code",
   "execution_count": 11,
   "metadata": {},
   "outputs": [],
   "source": [
    "# Transform emoji\n",
    "df_train['Text_data'] = df_train['Text_data'].astype(str).apply(lambda x: emoji.demojize(x, delimiters=(' ', ' ')))"
   ]
  },
  {
   "cell_type": "code",
   "execution_count": 12,
   "metadata": {},
   "outputs": [
    {
     "data": {
      "text/plain": [
       "72"
      ]
     },
     "execution_count": 12,
     "metadata": {},
     "output_type": "execute_result"
    }
   ],
   "source": [
    "# Check URL\n",
    "URL_result = df_train['Text_data'].apply(lambda x: re.findall(r'http', x))\n",
    "cnt = 0\n",
    "for item in URL_result.tolist():\n",
    "    if  item:\n",
    "        cnt += 1\n",
    "cnt"
   ]
  },
  {
   "cell_type": "code",
   "execution_count": 13,
   "metadata": {},
   "outputs": [],
   "source": [
    "# Remove URL\n",
    "df_train['Text_data'] = df_train['Text_data'].astype(str).apply(lambda x: re.sub(r'http\\S+', '', x))"
   ]
  },
  {
   "cell_type": "code",
   "execution_count": 14,
   "metadata": {},
   "outputs": [
    {
     "data": {
      "text/html": [
       "<div>\n",
       "<style scoped>\n",
       "    .dataframe tbody tr th:only-of-type {\n",
       "        vertical-align: middle;\n",
       "    }\n",
       "\n",
       "    .dataframe tbody tr th {\n",
       "        vertical-align: top;\n",
       "    }\n",
       "\n",
       "    .dataframe thead th {\n",
       "        text-align: right;\n",
       "    }\n",
       "</style>\n",
       "<table border=\"1\" class=\"dataframe\">\n",
       "  <thead>\n",
       "    <tr style=\"text-align: right;\">\n",
       "      <th></th>\n",
       "      <th>PID</th>\n",
       "      <th>Text_data</th>\n",
       "      <th>Label</th>\n",
       "    </tr>\n",
       "  </thead>\n",
       "  <tbody>\n",
       "    <tr>\n",
       "      <th>0</th>\n",
       "      <td>train_pid_1</td>\n",
       "      <td>waiting for my mind to have a breakdown once t...</td>\n",
       "      <td>moderate</td>\n",
       "    </tr>\n",
       "    <tr>\n",
       "      <th>1</th>\n",
       "      <td>train_pid_2</td>\n",
       "      <td>my new years resolution i am gonna get my ass ...</td>\n",
       "      <td>moderate</td>\n",
       "    </tr>\n",
       "    <tr>\n",
       "      <th>2</th>\n",
       "      <td>train_pid_3</td>\n",
       "      <td>new year somone else feeling like 2020 will be...</td>\n",
       "      <td>moderate</td>\n",
       "    </tr>\n",
       "    <tr>\n",
       "      <th>3</th>\n",
       "      <td>train_pid_4</td>\n",
       "      <td>my story i guess hi im from germany and my eng...</td>\n",
       "      <td>moderate</td>\n",
       "    </tr>\n",
       "    <tr>\n",
       "      <th>4</th>\n",
       "      <td>train_pid_5</td>\n",
       "      <td>sat in the dark and cried myself going into th...</td>\n",
       "      <td>moderate</td>\n",
       "    </tr>\n",
       "  </tbody>\n",
       "</table>\n",
       "</div>"
      ],
      "text/plain": [
       "           PID                                          Text_data     Label\n",
       "0  train_pid_1  waiting for my mind to have a breakdown once t...  moderate\n",
       "1  train_pid_2  my new years resolution i am gonna get my ass ...  moderate\n",
       "2  train_pid_3  new year somone else feeling like 2020 will be...  moderate\n",
       "3  train_pid_4  my story i guess hi im from germany and my eng...  moderate\n",
       "4  train_pid_5  sat in the dark and cried myself going into th...  moderate"
      ]
     },
     "execution_count": 14,
     "metadata": {},
     "output_type": "execute_result"
    }
   ],
   "source": [
    "df_train.head()"
   ]
  },
  {
   "cell_type": "code",
   "execution_count": 15,
   "metadata": {},
   "outputs": [],
   "source": [
    "df_train.to_csv('train_preprocess.csv', index = False)\n",
    "# df_train.to_csv('valid_preprocess.csv', index = False)"
   ]
  }
 ],
 "metadata": {
  "kernelspec": {
   "display_name": "Python 3",
   "language": "python",
   "name": "python3"
  },
  "language_info": {
   "codemirror_mode": {
    "name": "ipython",
    "version": 3
   },
   "file_extension": ".py",
   "mimetype": "text/x-python",
   "name": "python",
   "nbconvert_exporter": "python",
   "pygments_lexer": "ipython3",
   "version": "3.7.6"
  }
 },
 "nbformat": 4,
 "nbformat_minor": 4
}
